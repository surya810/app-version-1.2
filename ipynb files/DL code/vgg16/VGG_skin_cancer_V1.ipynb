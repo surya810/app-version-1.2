{
  "nbformat": 4,
  "nbformat_minor": 0,
  "metadata": {
    "colab": {
      "provenance": []
    },
    "kernelspec": {
      "name": "python3",
      "display_name": "Python 3"
    },
    "language_info": {
      "name": "python"
    },
    "accelerator": "GPU",
    "gpuClass": "standard"
  },
  "cells": [
    {
      "cell_type": "code",
      "execution_count": null,
      "metadata": {
        "id": "VmxgRGvpTUxa",
        "colab": {
          "base_uri": "https://localhost:8080/"
        },
        "outputId": "fbd51a59-94bc-4d33-bd0a-6981d74c44ae"
      },
      "outputs": [
        {
          "output_type": "stream",
          "name": "stdout",
          "text": [
            "Mounted at /content/drive\n"
          ]
        }
      ],
      "source": [
        "from google.colab import drive\n",
        "drive.mount('/content/drive')"
      ]
    },
    {
      "cell_type": "code",
      "source": [
        "from sklearn.preprocessing import StandardScaler\n",
        "import seaborn as sns\n",
        "\n",
        "import os\n",
        "\n",
        "%matplotlib inline\n",
        "import matplotlib.pyplot as plt\n",
        "import numpy as np\n",
        "import pandas as pd\n",
        "import os\n",
        "from glob import glob\n",
        "import seaborn as sns\n",
        "from PIL import Image"
      ],
      "metadata": {
        "id": "SwMmXP0tU4H1"
      },
      "execution_count": null,
      "outputs": []
    },
    {
      "cell_type": "code",
      "source": [
        "print(os.listdir(r'/content/drive/MyDrive/data'))"
      ],
      "metadata": {
        "id": "ZWTKA7SmU4KE",
        "colab": {
          "base_uri": "https://localhost:8080/"
        },
        "outputId": "6cfe3977-ebc5-458b-ef48-9380182acb0b"
      },
      "execution_count": null,
      "outputs": [
        {
          "output_type": "stream",
          "name": "stdout",
          "text": [
            "['data credit.txt', 'train', 'unknown(test)', 'test']\n"
          ]
        }
      ]
    },
    {
      "cell_type": "code",
      "source": [
        "folder_benign_train = r'/content/drive/MyDrive/data/train/benign'\n",
        "folder_malignant_train = r'/content/drive/MyDrive/data/train/malignant'\n",
        "\n",
        "folder_benign_test = r'/content/drive/MyDrive/data/test/benign'\n",
        "folder_malignant_test = r'/content/drive/MyDrive/data/test/malignant'"
      ],
      "metadata": {
        "id": "UyTa7UyiU4Mc"
      },
      "execution_count": null,
      "outputs": []
    },
    {
      "cell_type": "code",
      "source": [
        "read = lambda imname: np.asarray(Image.open(imname).convert(\"RGB\"))\n",
        "\n",
        "# Load in training pictures \n",
        "ims_benign = [read(os.path.join(folder_benign_train, filename)) for filename in os.listdir(folder_benign_train)]\n",
        "X_benign = np.array(ims_benign, dtype='uint8')\n",
        "ims_malignant = [read(os.path.join(folder_malignant_train, filename)) for filename in os.listdir(folder_malignant_train)]\n",
        "X_malignant = np.array(ims_malignant, dtype='uint8')\n",
        "\n",
        "# Load in testing pictures\n",
        "ims_benign = [read(os.path.join(folder_benign_test, filename)) for filename in os.listdir(folder_benign_test)]\n",
        "X_benign_test = np.array(ims_benign, dtype='uint8')\n",
        "ims_malignant = [read(os.path.join(folder_malignant_test, filename)) for filename in os.listdir(folder_malignant_test)]\n",
        "X_malignant_test = np.array(ims_malignant, dtype='uint8')\n",
        "\n",
        "# Create labels\n",
        "y_benign = np.zeros(X_benign.shape[0])\n",
        "y_malignant = np.ones(X_malignant.shape[0])\n",
        "\n",
        "y_benign_test = np.zeros(X_benign_test.shape[0])\n",
        "y_malignant_test = np.ones(X_malignant_test.shape[0])\n",
        "\n",
        "\n",
        "# Merge data \n",
        "X_train = np.concatenate((X_benign, X_malignant), axis = 0)\n",
        "y_train = np.concatenate((y_benign, y_malignant), axis = 0)\n",
        "\n",
        "X_test = np.concatenate((X_benign_test, X_malignant_test), axis = 0)\n",
        "y_test = np.concatenate((y_benign_test, y_malignant_test), axis = 0)\n",
        "\n",
        "# Shuffle data\n",
        "s = np.arange(X_train.shape[0])\n",
        "np.random.shuffle(s)\n",
        "X_train = X_train[s]\n",
        "y_train = y_train[s]\n",
        "\n",
        "s = np.arange(X_test.shape[0])\n",
        "np.random.shuffle(s)\n",
        "X_test = X_test[s]\n",
        "y_test = y_test[s]"
      ],
      "metadata": {
        "id": "U1et9ghjU4O8"
      },
      "execution_count": null,
      "outputs": []
    },
    {
      "cell_type": "code",
      "source": [
        "import os\n",
        "\n",
        "%matplotlib inline\n",
        "import matplotlib.pyplot as plt\n",
        "import numpy as np\n",
        "import pandas as pd\n",
        "from glob import glob\n",
        "from PIL import Image\n",
        "np.random.seed(20)\n",
        "from sklearn.metrics import accuracy_score\n",
        "\n",
        "import keras\n",
        "from keras.utils.np_utils import to_categorical\n",
        "from keras.models import Sequential, Model\n",
        "from keras import backend as K\n",
        "from keras.optimizers import Adam  \n",
        "from keras.callbacks import ReduceLROnPlateau\n"
      ],
      "metadata": {
        "id": "xJA24OwoU4Rv"
      },
      "execution_count": null,
      "outputs": []
    },
    {
      "cell_type": "code",
      "source": [
        "# Convert labels into one hot encoding\n",
        "#extra coding part is implemented here...just for encoding purpose\n",
        "y_train = to_categorical(y_train, num_classes=2)\n",
        "y_test = to_categorical(y_test, num_classes=2)"
      ],
      "metadata": {
        "id": "J0rJItinVmJu"
      },
      "execution_count": null,
      "outputs": []
    },
    {
      "cell_type": "code",
      "source": [
        "X_train = X_train/255\n",
        "X_test = X_test/255"
      ],
      "metadata": {
        "id": "Q9zjqPBmVmL8"
      },
      "execution_count": null,
      "outputs": []
    },
    {
      "cell_type": "code",
      "source": [
        "# ResNet-50 Model building\n",
        "input_shape = (224,224,3)\n",
        "lr = 1e-5 # learning rate\n",
        "epochs = 50\n",
        "batch_size = 32\n",
        "\n",
        "# set learning rate reduction\n",
        "learning_rate_reduction = ReduceLROnPlateau(monitor = 'val_accuracy',\n",
        "                                           patience=5,\n",
        "                                           verbose=1,\n",
        "                                           factor=0.5,\n",
        "                                           min_lr=1e-7)\n",
        "# model = ResNet50(include_top = True,\n",
        "#                 weights = None,\n",
        "#                 input_tensor = None, \n",
        "#                 input_shape=input_shape,\n",
        "#                 pooling='avg',\n",
        "#                 classes=2)"
      ],
      "metadata": {
        "id": "brsv3EXgVmOM"
      },
      "execution_count": null,
      "outputs": []
    },
    {
      "cell_type": "code",
      "source": [
        "# //do code for vgg 16\n",
        "from tensorflow.keras.applications.vgg16 import VGG16\n",
        "\n",
        "vvg = VGG16(input_shape=(224,224, 3), include_top=False,weights = 'imagenet')\n",
        "vvg.summary()\n"
      ],
      "metadata": {
        "id": "5i1s8aGoVmQk",
        "colab": {
          "base_uri": "https://localhost:8080/"
        },
        "outputId": "fffebcab-5a12-4b83-f10f-b79abe01a832"
      },
      "execution_count": null,
      "outputs": [
        {
          "output_type": "stream",
          "name": "stdout",
          "text": [
            "Downloading data from https://storage.googleapis.com/tensorflow/keras-applications/vgg16/vgg16_weights_tf_dim_ordering_tf_kernels_notop.h5\n",
            "58889256/58889256 [==============================] - 7s 0us/step\n",
            "Model: \"vgg16\"\n",
            "_________________________________________________________________\n",
            " Layer (type)                Output Shape              Param #   \n",
            "=================================================================\n",
            " input_1 (InputLayer)        [(None, 224, 224, 3)]     0         \n",
            "                                                                 \n",
            " block1_conv1 (Conv2D)       (None, 224, 224, 64)      1792      \n",
            "                                                                 \n",
            " block1_conv2 (Conv2D)       (None, 224, 224, 64)      36928     \n",
            "                                                                 \n",
            " block1_pool (MaxPooling2D)  (None, 112, 112, 64)      0         \n",
            "                                                                 \n",
            " block2_conv1 (Conv2D)       (None, 112, 112, 128)     73856     \n",
            "                                                                 \n",
            " block2_conv2 (Conv2D)       (None, 112, 112, 128)     147584    \n",
            "                                                                 \n",
            " block2_pool (MaxPooling2D)  (None, 56, 56, 128)       0         \n",
            "                                                                 \n",
            " block3_conv1 (Conv2D)       (None, 56, 56, 256)       295168    \n",
            "                                                                 \n",
            " block3_conv2 (Conv2D)       (None, 56, 56, 256)       590080    \n",
            "                                                                 \n",
            " block3_conv3 (Conv2D)       (None, 56, 56, 256)       590080    \n",
            "                                                                 \n",
            " block3_pool (MaxPooling2D)  (None, 28, 28, 256)       0         \n",
            "                                                                 \n",
            " block4_conv1 (Conv2D)       (None, 28, 28, 512)       1180160   \n",
            "                                                                 \n",
            " block4_conv2 (Conv2D)       (None, 28, 28, 512)       2359808   \n",
            "                                                                 \n",
            " block4_conv3 (Conv2D)       (None, 28, 28, 512)       2359808   \n",
            "                                                                 \n",
            " block4_pool (MaxPooling2D)  (None, 14, 14, 512)       0         \n",
            "                                                                 \n",
            " block5_conv1 (Conv2D)       (None, 14, 14, 512)       2359808   \n",
            "                                                                 \n",
            " block5_conv2 (Conv2D)       (None, 14, 14, 512)       2359808   \n",
            "                                                                 \n",
            " block5_conv3 (Conv2D)       (None, 14, 14, 512)       2359808   \n",
            "                                                                 \n",
            " block5_pool (MaxPooling2D)  (None, 7, 7, 512)         0         \n",
            "                                                                 \n",
            "=================================================================\n",
            "Total params: 14,714,688\n",
            "Trainable params: 14,714,688\n",
            "Non-trainable params: 0\n",
            "_________________________________________________________________\n"
          ]
        }
      ]
    },
    {
      "cell_type": "code",
      "source": [
        "for layers in (vvg.layers):\n",
        "    layers.trainable = False"
      ],
      "metadata": {
        "id": "CZZhTNxc_AVk"
      },
      "execution_count": null,
      "outputs": []
    },
    {
      "cell_type": "code",
      "source": [
        "# Add the vvg convolutional base model\n",
        "from keras.layers import Flatten\n",
        "from keras.models import Sequential\n",
        "from keras.layers import Dense,Dropout\n",
        "model2 = Sequential()\n",
        "model2.add(vvg)\n",
        "\n",
        "# Add new layers\n",
        "model2.add(Flatten())\n",
        "model2.add(Dense(4096 , activation='relu'))\n",
        "model2.add(Dropout(0.5))\n",
        "model2.add(Dense(4096 , activation='relu'))\n",
        "model2.add(Dropout(0.3))\n",
        "model2.add(Dense(4096, activation='relu'))\n",
        "model2.add(Dropout(0.4))\n",
        "model2.add(Dense(2, activation='softmax'))\n",
        "\n",
        "model2.summary()"
      ],
      "metadata": {
        "colab": {
          "base_uri": "https://localhost:8080/"
        },
        "id": "gINxSr3L_AaC",
        "outputId": "551d597a-5b07-4028-e15f-15b6e3acd59c"
      },
      "execution_count": null,
      "outputs": [
        {
          "output_type": "stream",
          "name": "stdout",
          "text": [
            "Model: \"sequential\"\n",
            "_________________________________________________________________\n",
            " Layer (type)                Output Shape              Param #   \n",
            "=================================================================\n",
            " vgg16 (Functional)          (None, 7, 7, 512)         14714688  \n",
            "                                                                 \n",
            " flatten (Flatten)           (None, 25088)             0         \n",
            "                                                                 \n",
            " dense (Dense)               (None, 4096)              102764544 \n",
            "                                                                 \n",
            " dropout (Dropout)           (None, 4096)              0         \n",
            "                                                                 \n",
            " dense_1 (Dense)             (None, 4096)              16781312  \n",
            "                                                                 \n",
            " dropout_1 (Dropout)         (None, 4096)              0         \n",
            "                                                                 \n",
            " dense_2 (Dense)             (None, 4096)              16781312  \n",
            "                                                                 \n",
            " dropout_2 (Dropout)         (None, 4096)              0         \n",
            "                                                                 \n",
            " dense_3 (Dense)             (None, 2)                 8194      \n",
            "                                                                 \n",
            "=================================================================\n",
            "Total params: 151,050,050\n",
            "Trainable params: 136,335,362\n",
            "Non-trainable params: 14,714,688\n",
            "_________________________________________________________________\n"
          ]
        }
      ]
    },
    {
      "cell_type": "code",
      "source": [
        "#First compile the model\n",
        "\n",
        "model2.compile(optimizer = Adam(lr),\n",
        "             loss = 'binary_crossentropy',\n",
        "             metrics=['accuracy'])"
      ],
      "metadata": {
        "id": "ZQqoQ5odAvsP"
      },
      "execution_count": null,
      "outputs": []
    },
    {
      "cell_type": "code",
      "source": [
        "history = model2.fit(X_train, y_train, validation_split=0.2,\n",
        "                   epochs = 50,\n",
        "                   batch_size = batch_size,\n",
        "                   verbose = 1,\n",
        "                   callbacks = [learning_rate_reduction])"
      ],
      "metadata": {
        "id": "srqGWcYBVmTI",
        "colab": {
          "base_uri": "https://localhost:8080/"
        },
        "outputId": "97f23362-368c-45b0-e19e-b4b29ba6d337"
      },
      "execution_count": null,
      "outputs": [
        {
          "output_type": "stream",
          "name": "stdout",
          "text": [
            "Epoch 1/50\n",
            "66/66 [==============================] - 33s 302ms/step - loss: 0.6554 - accuracy: 0.6366 - val_loss: 0.5201 - val_accuracy: 0.8068 - lr: 1.0000e-05\n",
            "Epoch 2/50\n",
            "66/66 [==============================] - 14s 206ms/step - loss: 0.5106 - accuracy: 0.7713 - val_loss: 0.4453 - val_accuracy: 0.8144 - lr: 1.0000e-05\n",
            "Epoch 3/50\n",
            "66/66 [==============================] - 13s 198ms/step - loss: 0.4342 - accuracy: 0.8121 - val_loss: 0.4046 - val_accuracy: 0.8201 - lr: 1.0000e-05\n",
            "Epoch 4/50\n",
            "66/66 [==============================] - 13s 196ms/step - loss: 0.3896 - accuracy: 0.8330 - val_loss: 0.4014 - val_accuracy: 0.8220 - lr: 1.0000e-05\n",
            "Epoch 5/50\n",
            "66/66 [==============================] - 13s 202ms/step - loss: 0.3887 - accuracy: 0.8363 - val_loss: 0.4467 - val_accuracy: 0.8106 - lr: 1.0000e-05\n",
            "Epoch 6/50\n",
            "66/66 [==============================] - 13s 199ms/step - loss: 0.3677 - accuracy: 0.8463 - val_loss: 0.3792 - val_accuracy: 0.8201 - lr: 1.0000e-05\n",
            "Epoch 7/50\n",
            "66/66 [==============================] - 13s 201ms/step - loss: 0.3418 - accuracy: 0.8510 - val_loss: 0.3731 - val_accuracy: 0.8220 - lr: 1.0000e-05\n",
            "Epoch 8/50\n",
            "66/66 [==============================] - 13s 201ms/step - loss: 0.3286 - accuracy: 0.8582 - val_loss: 0.3675 - val_accuracy: 0.8258 - lr: 1.0000e-05\n",
            "Epoch 9/50\n",
            "66/66 [==============================] - 13s 204ms/step - loss: 0.3080 - accuracy: 0.8738 - val_loss: 0.3726 - val_accuracy: 0.8182 - lr: 1.0000e-05\n",
            "Epoch 10/50\n",
            "66/66 [==============================] - 13s 204ms/step - loss: 0.2986 - accuracy: 0.8729 - val_loss: 0.3753 - val_accuracy: 0.8277 - lr: 1.0000e-05\n",
            "Epoch 11/50\n",
            "66/66 [==============================] - 13s 200ms/step - loss: 0.2879 - accuracy: 0.8776 - val_loss: 0.3688 - val_accuracy: 0.8333 - lr: 1.0000e-05\n",
            "Epoch 12/50\n",
            "66/66 [==============================] - 13s 204ms/step - loss: 0.2632 - accuracy: 0.8885 - val_loss: 0.3746 - val_accuracy: 0.8352 - lr: 1.0000e-05\n",
            "Epoch 13/50\n",
            "66/66 [==============================] - 13s 200ms/step - loss: 0.2701 - accuracy: 0.8828 - val_loss: 0.3735 - val_accuracy: 0.8314 - lr: 1.0000e-05\n",
            "Epoch 14/50\n",
            "66/66 [==============================] - 13s 199ms/step - loss: 0.2519 - accuracy: 0.8928 - val_loss: 0.3855 - val_accuracy: 0.8428 - lr: 1.0000e-05\n",
            "Epoch 15/50\n",
            "66/66 [==============================] - 13s 200ms/step - loss: 0.2443 - accuracy: 0.8990 - val_loss: 0.3615 - val_accuracy: 0.8390 - lr: 1.0000e-05\n",
            "Epoch 16/50\n",
            "66/66 [==============================] - 13s 204ms/step - loss: 0.2374 - accuracy: 0.9004 - val_loss: 0.3745 - val_accuracy: 0.8390 - lr: 1.0000e-05\n",
            "Epoch 17/50\n",
            "66/66 [==============================] - 13s 204ms/step - loss: 0.2171 - accuracy: 0.9046 - val_loss: 0.4120 - val_accuracy: 0.8239 - lr: 1.0000e-05\n",
            "Epoch 18/50\n",
            "66/66 [==============================] - 13s 200ms/step - loss: 0.2103 - accuracy: 0.9118 - val_loss: 0.3915 - val_accuracy: 0.8466 - lr: 1.0000e-05\n",
            "Epoch 19/50\n",
            "66/66 [==============================] - 13s 204ms/step - loss: 0.2015 - accuracy: 0.9146 - val_loss: 0.3794 - val_accuracy: 0.8504 - lr: 1.0000e-05\n",
            "Epoch 20/50\n",
            "66/66 [==============================] - 13s 200ms/step - loss: 0.1900 - accuracy: 0.9222 - val_loss: 0.4014 - val_accuracy: 0.8504 - lr: 1.0000e-05\n",
            "Epoch 21/50\n",
            "66/66 [==============================] - 13s 204ms/step - loss: 0.1840 - accuracy: 0.9241 - val_loss: 0.4152 - val_accuracy: 0.8409 - lr: 1.0000e-05\n",
            "Epoch 22/50\n",
            "66/66 [==============================] - 13s 204ms/step - loss: 0.1726 - accuracy: 0.9322 - val_loss: 0.4261 - val_accuracy: 0.8409 - lr: 1.0000e-05\n",
            "Epoch 23/50\n",
            "66/66 [==============================] - 13s 203ms/step - loss: 0.1717 - accuracy: 0.9312 - val_loss: 0.4189 - val_accuracy: 0.8523 - lr: 1.0000e-05\n",
            "Epoch 24/50\n",
            "66/66 [==============================] - 13s 200ms/step - loss: 0.1531 - accuracy: 0.9393 - val_loss: 0.4108 - val_accuracy: 0.8580 - lr: 1.0000e-05\n",
            "Epoch 25/50\n",
            "66/66 [==============================] - 13s 199ms/step - loss: 0.1429 - accuracy: 0.9497 - val_loss: 0.4210 - val_accuracy: 0.8542 - lr: 1.0000e-05\n",
            "Epoch 26/50\n",
            "66/66 [==============================] - 13s 199ms/step - loss: 0.1689 - accuracy: 0.9345 - val_loss: 0.4162 - val_accuracy: 0.8542 - lr: 1.0000e-05\n",
            "Epoch 27/50\n",
            "66/66 [==============================] - 13s 199ms/step - loss: 0.1515 - accuracy: 0.9398 - val_loss: 0.4565 - val_accuracy: 0.8428 - lr: 1.0000e-05\n",
            "Epoch 28/50\n",
            "66/66 [==============================] - 13s 203ms/step - loss: 0.1282 - accuracy: 0.9488 - val_loss: 0.4832 - val_accuracy: 0.8428 - lr: 1.0000e-05\n",
            "Epoch 29/50\n",
            "66/66 [==============================] - ETA: 0s - loss: 0.1291 - accuracy: 0.9502\n",
            "Epoch 29: ReduceLROnPlateau reducing learning rate to 4.999999873689376e-06.\n",
            "66/66 [==============================] - 13s 204ms/step - loss: 0.1291 - accuracy: 0.9502 - val_loss: 0.4611 - val_accuracy: 0.8485 - lr: 1.0000e-05\n",
            "Epoch 30/50\n",
            "66/66 [==============================] - 13s 199ms/step - loss: 0.1147 - accuracy: 0.9573 - val_loss: 0.4891 - val_accuracy: 0.8485 - lr: 5.0000e-06\n",
            "Epoch 31/50\n",
            "66/66 [==============================] - 13s 200ms/step - loss: 0.1173 - accuracy: 0.9602 - val_loss: 0.4776 - val_accuracy: 0.8542 - lr: 5.0000e-06\n",
            "Epoch 32/50\n",
            "66/66 [==============================] - 13s 204ms/step - loss: 0.1087 - accuracy: 0.9564 - val_loss: 0.4928 - val_accuracy: 0.8523 - lr: 5.0000e-06\n",
            "Epoch 33/50\n",
            "66/66 [==============================] - 13s 204ms/step - loss: 0.0996 - accuracy: 0.9644 - val_loss: 0.4863 - val_accuracy: 0.8580 - lr: 5.0000e-06\n",
            "Epoch 34/50\n",
            "66/66 [==============================] - ETA: 0s - loss: 0.0978 - accuracy: 0.9625\n",
            "Epoch 34: ReduceLROnPlateau reducing learning rate to 2.499999936844688e-06.\n",
            "66/66 [==============================] - 13s 203ms/step - loss: 0.0978 - accuracy: 0.9625 - val_loss: 0.4863 - val_accuracy: 0.8561 - lr: 5.0000e-06\n",
            "Epoch 35/50\n",
            "66/66 [==============================] - 13s 199ms/step - loss: 0.0933 - accuracy: 0.9682 - val_loss: 0.4920 - val_accuracy: 0.8523 - lr: 2.5000e-06\n",
            "Epoch 36/50\n",
            "66/66 [==============================] - 13s 199ms/step - loss: 0.0868 - accuracy: 0.9696 - val_loss: 0.5241 - val_accuracy: 0.8504 - lr: 2.5000e-06\n",
            "Epoch 37/50\n",
            "66/66 [==============================] - 13s 199ms/step - loss: 0.0848 - accuracy: 0.9677 - val_loss: 0.4995 - val_accuracy: 0.8485 - lr: 2.5000e-06\n",
            "Epoch 38/50\n",
            "66/66 [==============================] - 13s 200ms/step - loss: 0.0834 - accuracy: 0.9682 - val_loss: 0.5024 - val_accuracy: 0.8409 - lr: 2.5000e-06\n",
            "Epoch 39/50\n",
            "66/66 [==============================] - ETA: 0s - loss: 0.0881 - accuracy: 0.9625\n",
            "Epoch 39: ReduceLROnPlateau reducing learning rate to 1.249999968422344e-06.\n",
            "66/66 [==============================] - 13s 199ms/step - loss: 0.0881 - accuracy: 0.9625 - val_loss: 0.5039 - val_accuracy: 0.8428 - lr: 2.5000e-06\n",
            "Epoch 40/50\n",
            "66/66 [==============================] - 13s 199ms/step - loss: 0.0833 - accuracy: 0.9725 - val_loss: 0.5211 - val_accuracy: 0.8598 - lr: 1.2500e-06\n",
            "Epoch 41/50\n",
            "66/66 [==============================] - 13s 204ms/step - loss: 0.0811 - accuracy: 0.9696 - val_loss: 0.5084 - val_accuracy: 0.8485 - lr: 1.2500e-06\n",
            "Epoch 42/50\n",
            "66/66 [==============================] - 13s 204ms/step - loss: 0.0766 - accuracy: 0.9711 - val_loss: 0.5128 - val_accuracy: 0.8542 - lr: 1.2500e-06\n",
            "Epoch 43/50\n",
            "66/66 [==============================] - 13s 199ms/step - loss: 0.0794 - accuracy: 0.9734 - val_loss: 0.5113 - val_accuracy: 0.8504 - lr: 1.2500e-06\n",
            "Epoch 44/50\n",
            "66/66 [==============================] - 13s 205ms/step - loss: 0.0726 - accuracy: 0.9763 - val_loss: 0.5147 - val_accuracy: 0.8542 - lr: 1.2500e-06\n",
            "Epoch 45/50\n",
            "66/66 [==============================] - ETA: 0s - loss: 0.0806 - accuracy: 0.9725\n",
            "Epoch 45: ReduceLROnPlateau reducing learning rate to 6.24999984211172e-07.\n",
            "66/66 [==============================] - 13s 201ms/step - loss: 0.0806 - accuracy: 0.9725 - val_loss: 0.5319 - val_accuracy: 0.8542 - lr: 1.2500e-06\n",
            "Epoch 46/50\n",
            "66/66 [==============================] - 13s 205ms/step - loss: 0.0739 - accuracy: 0.9763 - val_loss: 0.5139 - val_accuracy: 0.8542 - lr: 6.2500e-07\n",
            "Epoch 47/50\n",
            "66/66 [==============================] - 13s 205ms/step - loss: 0.0726 - accuracy: 0.9739 - val_loss: 0.5180 - val_accuracy: 0.8542 - lr: 6.2500e-07\n",
            "Epoch 48/50\n",
            "66/66 [==============================] - 13s 200ms/step - loss: 0.0761 - accuracy: 0.9701 - val_loss: 0.5174 - val_accuracy: 0.8542 - lr: 6.2500e-07\n",
            "Epoch 49/50\n",
            "66/66 [==============================] - 13s 204ms/step - loss: 0.0763 - accuracy: 0.9725 - val_loss: 0.5236 - val_accuracy: 0.8580 - lr: 6.2500e-07\n",
            "Epoch 50/50\n",
            "66/66 [==============================] - ETA: 0s - loss: 0.0723 - accuracy: 0.9753\n",
            "Epoch 50: ReduceLROnPlateau reducing learning rate to 3.12499992105586e-07.\n",
            "66/66 [==============================] - 13s 200ms/step - loss: 0.0723 - accuracy: 0.9753 - val_loss: 0.5198 - val_accuracy: 0.8580 - lr: 6.2500e-07\n"
          ]
        }
      ]
    },
    {
      "cell_type": "code",
      "source": [
        "print(history.history.keys())\n",
        "# summarize history for accuracy\n",
        "plt.plot(history.history['accuracy'])\n",
        "plt.plot(history.history['val_accuracy'])\n",
        "plt.title('VGG-16 model accuracy')\n",
        "plt.ylabel('Accuracy')\n",
        "plt.xlabel('Epoch')\n",
        "plt.legend(['train', 'validation'], loc='upper left')\n",
        "plt.show()\n",
        "# summarize history for loss\n",
        "plt.plot(history.history['loss'])\n",
        "plt.plot(history.history['val_loss'])\n",
        "plt.title('VGG-16 model loss')\n",
        "plt.ylabel('loss')\n",
        "plt.xlabel('epoch')\n",
        "plt.legend(['train', 'validation'], loc='upper left')\n",
        "plt.show()"
      ],
      "metadata": {
        "id": "bk8KTsvUV6k1",
        "colab": {
          "base_uri": "https://localhost:8080/",
          "height": 590
        },
        "outputId": "e57df63f-83bf-4782-8baf-8603fb923624"
      },
      "execution_count": null,
      "outputs": [
        {
          "output_type": "stream",
          "name": "stdout",
          "text": [
            "dict_keys(['loss', 'accuracy', 'val_loss', 'val_accuracy', 'lr'])\n"
          ]
        },
        {
          "output_type": "display_data",
          "data": {
            "text/plain": [
              "<Figure size 432x288 with 1 Axes>"
            ],
            "image/png": "[encoded data removed]"
          },
          "metadata": {
            "needs_background": "light"
          }
        },
        {
          "output_type": "display_data",
          "data": {
            "text/plain": [
              "<Figure size 432x288 with 1 Axes>"
            ],
            "image/png": "[encoded data removed]"
          },
          "metadata": {
            "needs_background": "light"
          }
        }
      ]
    },
    {
      "cell_type": "code",
      "source": [
        "y_pred = model2.predict(X_test)\n",
        "print(accuracy_score(np.argmax(y_test, axis=1), np.argmax(y_pred, axis=1))*100)"
      ],
      "metadata": {
        "id": "vZLSFVTWV6mn",
        "colab": {
          "base_uri": "https://localhost:8080/"
        },
        "outputId": "36cb9de8-fddf-47e6-bec6-efb57b959d3d"
      },
      "execution_count": null,
      "outputs": [
        {
          "output_type": "stream",
          "name": "stdout",
          "text": [
            "21/21 [==============================] - 5s 263ms/step\n",
            "85.0\n"
          ]
        }
      ]
    },
    {
      "cell_type": "code",
      "source": [
        "y_test=np.argmax(y_test, axis=1)\n"
      ],
      "metadata": {
        "id": "tcRXltU36FpZ"
      },
      "execution_count": null,
      "outputs": []
    },
    {
      "cell_type": "code",
      "source": [
        "# save model\n",
        "# serialize model to JSON\n",
        "resnet50_json = model.to_json()\n",
        "\n",
        "with open(\"resnet50.json\", \"w\") as json_file:\n",
        "    json_file.write(resnet50_json)\n",
        "    \n",
        "# serialize weights to HDF5\n",
        "model.save_weights(\"resnet50.h5\")\n",
        "print(\"Saved model to disk\")"
      ],
      "metadata": {
        "id": "32yUvuc0V6pC"
      },
      "execution_count": null,
      "outputs": []
    },
    {
      "cell_type": "code",
      "source": [
        "from sklearn.metrics import confusion_matrix\n",
        "import itertools\n",
        "\n",
        "def plot_confusion_matrix(cm, classes,\n",
        "                          normalize=False,\n",
        "                          title='Confusion matrix',\n",
        "                          cmap=plt.cm.Blues):\n",
        "    \"\"\"\n",
        "    This function prints and plots the confusion matrix.\n",
        "    Normalization can be applied by setting `normalize=True`.\n",
        "    \"\"\"\n",
        "    if normalize:\n",
        "        cm = cm.astype('float') / cm.sum(axis=1)[:, np.newaxis]\n",
        "        print(\"Normalized confusion matrix\")\n",
        "    else:\n",
        "        print('Confusion matrix, without normalization')\n",
        "\n",
        "    print(cm)\n",
        "\n",
        "    plt.imshow(cm, interpolation='nearest', cmap=cmap)\n",
        "    plt.title(title)\n",
        "    plt.colorbar()\n",
        "    tick_marks = np.arange(len(classes))\n",
        "    plt.xticks(tick_marks, classes, rotation=55)\n",
        "    plt.yticks(tick_marks, classes)\n",
        "\n",
        "    fmt = '.2f' if normalize else 'd'\n",
        "    thresh = cm.max() / 2.\n",
        "    for i, j in itertools.product(range(cm.shape[0]), range(cm.shape[1])):\n",
        "        plt.text(j, i, format(cm[i, j], fmt),\n",
        "                 horizontalalignment=\"center\",\n",
        "                 color=\"white\" if cm[i, j] > thresh else \"black\")\n",
        "\n",
        "    plt.ylabel('True label')\n",
        "    plt.xlabel('Predicted label')\n",
        "    plt.tight_layout()\n",
        "\n",
        "cm = confusion_matrix(np.argmax(y_test, axis=1), np.argmax(y_pred, axis=1))\n",
        "\n",
        "cm_plot_label =['benign', 'malignant']\n",
        "plot_confusion_matrix(cm, cm_plot_label, title ='Confusion Metrix for Skin Cancer')"
      ],
      "metadata": {
        "id": "J7ggV0_xWBny",
        "colab": {
          "base_uri": "https://localhost:8080/",
          "height": 349
        },
        "outputId": "2702cea8-79c5-4fc2-9545-a91374e18f39"
      },
      "execution_count": null,
      "outputs": [
        {
          "output_type": "stream",
          "name": "stdout",
          "text": [
            "Confusion matrix, without normalization\n",
            "[[298  62]\n",
            " [ 37 263]]\n"
          ]
        },
        {
          "output_type": "display_data",
          "data": {
            "text/plain": [
              "<Figure size 432x288 with 2 Axes>"
            ],
            "image/png": "[encoded data removed]"
          },
          "metadata": {
            "needs_background": "light"
          }
        }
      ]
    },
    {
      "cell_type": "code",
      "source": [
        "# Confusion matrix based on XGBOOST\n",
        "cm = confusion_matrix(y_test, y_pred)\n",
        "cm = cm.astype('float') / cm.sum(axis=1)[:, np.newaxis]\n",
        "sns.heatmap(cm, annot = True).set_title('VGG 16 Preformance')"
      ],
      "metadata": {
        "colab": {
          "base_uri": "https://localhost:8080/",
          "height": 298
        },
        "id": "k1g4wd225wci",
        "outputId": "4809a8a8-306e-42ad-cd41-44de7436b3f5"
      },
      "execution_count": null,
      "outputs": [
        {
          "output_type": "execute_result",
          "data": {
            "text/plain": [
              "Text(0.5, 1.0, 'VGG 16 Preformance')"
            ]
          },
          "metadata": {},
          "execution_count": 24
        },
        {
          "output_type": "display_data",
          "data": {
            "text/plain": [
              "<Figure size 432x288 with 2 Axes>"
            ],
            "image/png": "[encoded data removed]"
          },
          "metadata": {
            "needs_background": "light"
          }
        }
      ]
    },
    {
      "cell_type": "code",
      "source": [
        "from sklearn.metrics import classification_report\n",
        "print(classification_report(y_test,y_pred))"
      ],
      "metadata": {
        "id": "9_LaNgVVWBp6",
        "colab": {
          "base_uri": "https://localhost:8080/"
        },
        "outputId": "0e2bfc7d-9f9b-4f36-81af-7dbba4a3923b"
      },
      "execution_count": null,
      "outputs": [
        {
          "output_type": "stream",
          "name": "stdout",
          "text": [
            "              precision    recall  f1-score   support\n",
            "\n",
            "           0       0.89      0.83      0.86       360\n",
            "           1       0.81      0.88      0.84       300\n",
            "\n",
            "    accuracy                           0.85       660\n",
            "   macro avg       0.85      0.85      0.85       660\n",
            "weighted avg       0.85      0.85      0.85       660\n",
            "\n"
          ]
        }
      ]
    },
    {
      "cell_type": "code",
      "source": [
        "from sklearn.metrics import roc_auc_score, auc\n",
        "from sklearn.metrics import roc_curve\n",
        "roc_log = roc_auc_score(y_test, y_pred )\n",
        "false_positive_rate, true_positive_rate, threshold = roc_curve(y_test, y_pred)\n",
        "area_under_curve = auc(false_positive_rate, true_positive_rate)\n",
        "\n",
        "plt.plot([0, 1], [0, 1], 'r--')\n",
        "plt.plot(false_positive_rate, true_positive_rate, label='AUC = {:.3f}'.format(area_under_curve))\n",
        "plt.xlabel('False positive rate')\n",
        "plt.ylabel('True positive rate')\n",
        "plt.title('ROC curve')\n",
        "plt.legend(loc='best')\n",
        "plt.show()\n",
        "#plt.savefig(ROC_PLOT_FILE, bbox_inches='tight')\n",
        "plt.close()"
      ],
      "metadata": {
        "id": "35qpmbxUWBsa",
        "colab": {
          "base_uri": "https://localhost:8080/",
          "height": 295
        },
        "outputId": "7bb0c411-8dd4-4e3c-9da6-d463f2d25407"
      },
      "execution_count": null,
      "outputs": [
        {
          "output_type": "display_data",
          "data": {
            "text/plain": [
              "<Figure size 432x288 with 1 Axes>"
            ],
            "image/png": "[encoded data removed]"
          },
          "metadata": {
            "needs_background": "light"
          }
        }
      ]
    },
    {
      "cell_type": "code",
      "source": [],
      "metadata": {
        "id": "pOVVXBQ_V6rq"
      },
      "execution_count": null,
      "outputs": []
    }
  ]
}